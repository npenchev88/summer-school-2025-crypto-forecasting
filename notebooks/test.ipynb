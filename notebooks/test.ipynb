{
 "cells": [
  {
   "cell_type": "code",
   "execution_count": 1,
   "id": "a8bba67c-a9c2-4b9d-a8cd-fe088d954d65",
   "metadata": {},
   "outputs": [
    {
     "name": "stdout",
     "output_type": "stream",
     "text": [
      "chorabe test\n"
     ]
    }
   ],
   "source": [
    "print('chorabe test')"
   ]
  },
  {
   "cell_type": "code",
   "execution_count": null,
   "id": "acea0498-a4ce-498e-b4f7-7c6580358995",
   "metadata": {},
   "outputs": [],
   "source": []
  }
 ],
 "metadata": {
  "kernelspec": {
   "display_name": "SS25 Crypto",
   "language": "python",
   "name": "ss25-crypto"
  },
  "language_info": {
   "codemirror_mode": {
    "name": "ipython",
    "version": 3
   },
   "file_extension": ".py",
   "mimetype": "text/x-python",
   "name": "python",
   "nbconvert_exporter": "python",
   "pygments_lexer": "ipython3",
   "version": "3.12.4"
  }
 },
 "nbformat": 4,
 "nbformat_minor": 5
}
