{
 "cells": [
  {
   "cell_type": "code",
   "execution_count": 95,
   "id": "d135df2a-3945-4484-90fd-9dc51a9010ab",
   "metadata": {},
   "outputs": [
    {
     "name": "stdout",
     "output_type": "stream",
     "text": [
      "Requirement already satisfied: scipy in c:\\users\\kameliya.stefanova\\onedrive - indeavr\\desktop\\ks\\пхд\\summer school\\credit scoring\\.venv\\lib\\site-packages (1.16.0)\n",
      "Requirement already satisfied: numpy<2.6,>=1.25.2 in c:\\users\\kameliya.stefanova\\onedrive - indeavr\\desktop\\ks\\пхд\\summer school\\credit scoring\\.venv\\lib\\site-packages (from scipy) (2.3.1)\n"
     ]
    }
   ],
   "source": [
    "!pip install scipy"
   ]
  },
  {
   "cell_type": "code",
   "execution_count": 109,
   "id": "9f2da349-e670-4dbe-9e45-d173944960eb",
   "metadata": {},
   "outputs": [],
   "source": [
    "import pandas as pd\n",
    "\n",
    "url = \"https://github.com/npenchev88/summer-school-2025-crypto-forecasting/raw/refs/heads/main/resources/data/BTC_Historical_Data.xlsx\"\n",
    "df = pd.read_excel(url, engine='openpyxl')\n",
    "\n",
    "df['date'] = pd.to_datetime(df['date']).dt.date\n",
    "\n",
    "df = df.sort_values('date').reset_index(drop=True)\n",
    "\n",
    "df['Daily Return'] = (df['close'] - df['open']) / df['open'] * 100\n"
   ]
  },
  {
   "cell_type": "markdown",
   "id": "22bd5005-e39b-4a8c-aa7c-d2dd57e5e67f",
   "metadata": {},
   "source": [
    "# Summary Stats (Mean, Pos/Neg Returns, Frequencies)"
   ]
  },
  {
   "cell_type": "code",
   "execution_count": 110,
   "id": "74f6cb3a-d6be-49c9-8d3a-c7844c2d52f4",
   "metadata": {},
   "outputs": [
    {
     "name": "stdout",
     "output_type": "stream",
     "text": [
      "\n",
      "=== Return Summary ===\n",
      "           Category Average Return Frequency Frequency % Avg Return\n",
      "0    Average Return         21.77%                                 \n",
      "1  Average Positive          2.47%      2011      52.53%      1.30%\n",
      "2  Average Negative         -2.28%      1810      47.28%     -1.08%\n",
      "3      Zero Returns          0.00%         7       0.18%      0.00%\n"
     ]
    }
   ],
   "source": [
    "import numpy as np\n",
    "\n",
    "returns = df['Daily Return'].dropna()\n",
    "\n",
    "# Basic stats\n",
    "average_return = returns.mean()\n",
    "positive_returns = returns[returns > 0]\n",
    "negative_returns = returns[returns < 0]\n",
    "\n",
    "avg_positive = positive_returns.mean()\n",
    "avg_negative = negative_returns.mean()\n",
    "\n",
    "freq_positive = len(positive_returns)\n",
    "freq_negative = len(negative_returns)\n",
    "total_days = len(returns)\n",
    "\n",
    "perc_positive = freq_positive / total_days * 100\n",
    "perc_negative = freq_negative / total_days * 100\n",
    "\n",
    "# number of zero-return days (if relevant)\n",
    "zero_returns = returns[returns == 0]\n",
    "freq_zero = len(zero_returns)\n",
    "perc_zero = freq_zero / total_days * 100\n",
    "\n",
    "weighted_avg_positive = avg_positive * (perc_positive / 100)\n",
    "weighted_avg_negative = avg_negative * (perc_negative / 100)\n",
    "\n",
    "return_summary = pd.DataFrame({\n",
    "    'Category': ['Average Return', 'Average Positive', 'Average Negative', 'Zero Returns'],\n",
    "    'Average Return': [f\"{average_return:.2%}\", f\"{avg_positive:.2f}%\", f\"{avg_negative:.2f}%\", '0.00%'],\n",
    "    'Frequency': ['', freq_positive, freq_negative, freq_zero],\n",
    "    'Frequency %': ['', f\"{perc_positive:.2f}%\", f\"{perc_negative:.2f}%\", f\"{perc_zero:.2f}%\"],\n",
    "    'Avg Return': ['', f\"{weighted_avg_positive:.2f}%\", f\"{weighted_avg_negative:.2f}%\", '0.00%']\n",
    "})\n",
    "\n",
    "print(\"\\n=== Return Summary ===\")\n",
    "print(return_summary)\n"
   ]
  },
  {
   "cell_type": "markdown",
   "id": "f2bd9018-9b5e-486f-9fbb-0097ff5556a9",
   "metadata": {},
   "source": [
    "# Histogram Bins and Frequency Table"
   ]
  },
  {
   "cell_type": "code",
   "execution_count": 111,
   "id": "825650d8-9a89-44e0-aec0-e469ea61dc1a",
   "metadata": {},
   "outputs": [
    {
     "name": "stdout",
     "output_type": "stream",
     "text": [
      "     Bin Interval         Bin Label  Frequency  Probability (%)  \\\n",
      "0   (-inf, -15.0]    Less than -15%          8             0.21   \n",
      "1  (-15.0, -10.0]      -15% to -10%         34             0.89   \n",
      "2   (-10.0, -5.0]       -10% to -5%        185             4.83   \n",
      "3    (-5.0, -2.0]        -5% to -2%        461            12.04   \n",
      "4     (-2.0, 0.0]         -2% to 0%       1129            29.49   \n",
      "5      (0.0, 2.0]          0% to 2%       1169            30.54   \n",
      "6      (2.0, 5.0]          2% to 5%        588            15.36   \n",
      "7     (5.0, 10.0]         5% to 10%        200             5.22   \n",
      "8    (10.0, 15.0]        10% to 15%         44             1.15   \n",
      "9     (15.0, inf]  Greater than 15%         10             0.26   \n",
      "\n",
      "   Cumulative (%)  \n",
      "0            0.21  \n",
      "1            1.10  \n",
      "2            5.93  \n",
      "3           17.97  \n",
      "4           47.47  \n",
      "5           78.00  \n",
      "6           93.36  \n",
      "7           98.59  \n",
      "8           99.74  \n",
      "9          100.00  \n"
     ]
    },
    {
     "name": "stderr",
     "output_type": "stream",
     "text": [
      "C:\\Users\\Kameliya.Stefanova\\AppData\\Local\\Temp\\ipykernel_14500\\2139265965.py:18: FutureWarning: The default of observed=False is deprecated and will be changed to True in a future version of pandas. Pass observed=False to retain current behavior or observed=True to adopt the future default and silence this warning.\n",
      "  grouped = df.groupby('Bin Interval')\n"
     ]
    }
   ],
   "source": [
    "bin_edges = [-np.inf, -15, -10, -5, -2, 0, 2, 5, 10, 15, np.inf]\n",
    "bin_labels = [\n",
    "    \"Less than -15%\",\n",
    "    \"-15% to -10%\",\n",
    "    \"-10% to -5%\",\n",
    "    \"-5% to -2%\",\n",
    "    \"-2% to 0%\",\n",
    "    \"0% to 2%\",\n",
    "    \"2% to 5%\",\n",
    "    \"5% to 10%\",\n",
    "    \"10% to 15%\",\n",
    "    \"Greater than 15%\"\n",
    "]\n",
    "\n",
    "df['Bin Interval'] = pd.cut(df['Daily Return'], bins=bin_edges)\n",
    "df['Bin Label'] = pd.cut(df['Daily Return'], bins=bin_edges, labels=bin_labels)\n",
    "\n",
    "grouped = df.groupby('Bin Interval')\n",
    "\n",
    "bin_counts = grouped.size()\n",
    "\n",
    "probabilities = bin_counts / bin_counts.sum() * 100\n",
    "\n",
    "cumulative_percentages = probabilities.cumsum()\n",
    "\n",
    "histogram_table = pd.DataFrame({\n",
    "    'Bin Interval': bin_counts.index.astype(str),\n",
    "    'Bin Label': bin_labels,\n",
    "    'Frequency': bin_counts.values,\n",
    "    'Probability (%)': probabilities.round(2).values,\n",
    "    'Cumulative (%)': cumulative_percentages.round(2).values\n",
    "})\n",
    "\n",
    "print(histogram_table)\n"
   ]
  },
  {
   "cell_type": "markdown",
   "id": "6535032e-db22-4559-a1e4-2a4b28587e6d",
   "metadata": {},
   "source": [
    "# Descriptive Statistics and Standard Deviations"
   ]
  },
  {
   "cell_type": "code",
   "execution_count": 112,
   "id": "aadc1d8e-3965-4f45-b732-0660c58b7342",
   "metadata": {},
   "outputs": [
    {
     "name": "stdout",
     "output_type": "stream",
     "text": [
      "\n",
      "=== Descriptive Statistics ===\n",
      "                Metric        Value\n",
      "0                 Mean     0.217744\n",
      "1       Standard Error     0.058562\n",
      "2               Median     0.124185\n",
      "3                 Mode     0.000000\n",
      "4   Standard Deviation     3.623258\n",
      "5      Sample Variance    13.127999\n",
      "6             Kurtosis    11.759999\n",
      "7             Skewness    -0.131506\n",
      "8                Range    66.411001\n",
      "9              Minimum   -39.182377\n",
      "10             Maximum    27.228623\n",
      "11                 Sum   833.522476\n",
      "12               Count  3828.000000\n",
      "\n",
      "=== Standard Deviation Bands ===\n",
      "      Metric      Value\n",
      "0  Mean + 1σ   3.841002\n",
      "1  Mean - 1σ  -3.405514\n",
      "2  Mean + 2σ   7.464260\n",
      "3  Mean - 2σ  -7.028772\n",
      "4  Mean + 3σ  11.087518\n",
      "5  Mean - 3σ -10.652030\n",
      "\n",
      "=== Std Dev Coverage Comparison (Actual vs Normal) ===\n",
      "   Std Dev  Actual Count  Normal Count  Actual %  Normal %\n",
      "0        1          3012      2610.696     78.68      68.2\n",
      "1        2          3606      3651.912     94.20      95.4\n",
      "2        3          3768      3820.344     98.43      99.8\n"
     ]
    }
   ],
   "source": [
    "import pandas as pd\n",
    "import numpy as np\n",
    "from scipy.stats import kurtosis, skew, mode\n",
    "\n",
    "returns = df['Daily Return'].dropna()\n",
    "\n",
    "# Core stats\n",
    "mean = returns.mean()\n",
    "std_dev = returns.std()\n",
    "std_err = returns.sem()\n",
    "median = returns.median()\n",
    "mode_val = mode(returns, keepdims=False).mode\n",
    "variance = returns.var()\n",
    "kurt = kurtosis(returns, fisher=False)\n",
    "skewness = skew(returns)\n",
    "minimum = returns.min()\n",
    "maximum = returns.max()\n",
    "range_val = maximum - minimum\n",
    "total_sum = returns.sum()\n",
    "count = returns.count()\n",
    "\n",
    "# Table 1: Descriptive Statistics\n",
    "descriptive_stats = pd.DataFrame({\n",
    "    'Metric': [\n",
    "        'Mean', 'Standard Error', 'Median', 'Mode', 'Standard Deviation', 'Sample Variance',\n",
    "        'Kurtosis', 'Skewness', 'Range', 'Minimum', 'Maximum', 'Sum', 'Count'\n",
    "    ],\n",
    "    'Value': [\n",
    "        mean, std_err, median, mode_val, std_dev, variance,\n",
    "        kurt, skewness, range_val, minimum, maximum, total_sum, count\n",
    "    ]\n",
    "})\n",
    "\n",
    "# Table 2: Std Dev Bands\n",
    "std_band_df = pd.DataFrame({\n",
    "    'Metric': [\n",
    "        'Mean + 1σ', 'Mean - 1σ',\n",
    "        'Mean + 2σ', 'Mean - 2σ',\n",
    "        'Mean + 3σ', 'Mean - 3σ'\n",
    "    ],\n",
    "    'Value': [\n",
    "        mean + std_dev, mean - std_dev,\n",
    "        mean + 2*std_dev, mean - 2*std_dev,\n",
    "        mean + 3*std_dev, mean - 3*std_dev\n",
    "    ]\n",
    "})\n",
    "\n",
    "# Table 3: Std Dev Distribution Table\n",
    "within_1_std = returns[(returns >= mean - std_dev) & (returns <= mean + std_dev)]\n",
    "within_2_std = returns[(returns >= mean - 2*std_dev) & (returns <= mean + 2*std_dev)]\n",
    "within_3_std = returns[(returns >= mean - 3*std_dev) & (returns <= mean + 3*std_dev)]\n",
    "\n",
    "actual_counts = [len(within_1_std), len(within_2_std), len(within_3_std)]\n",
    "normal_percents = [0.682, 0.954, 0.998]\n",
    "normal_counts = [round(p * count, 3) for p in normal_percents]\n",
    "actual_percents = [round((x / count) * 100, 2) for x in actual_counts]\n",
    "normal_percents_percent = [round(p * 100, 2) for p in normal_percents]\n",
    "\n",
    "std_dev_comparison = pd.DataFrame({\n",
    "    'Std Dev': [1, 2, 3],\n",
    "    'Actual Count': actual_counts,\n",
    "    'Normal Count': normal_counts,\n",
    "    'Actual %': actual_percents,\n",
    "    'Normal %': normal_percents_percent\n",
    "})\n",
    "\n",
    "print(\"\\n=== Descriptive Statistics ===\")\n",
    "print(descriptive_stats)\n",
    "\n",
    "print(\"\\n=== Standard Deviation Bands ===\")\n",
    "print(std_band_df)\n",
    "\n",
    "print(\"\\n=== Std Dev Coverage Comparison (Actual vs Normal) ===\")\n",
    "print(std_dev_comparison)\n",
    "\n"
   ]
  },
  {
   "cell_type": "markdown",
   "id": "88dea737-f7f3-4357-83e6-058f5f65327d",
   "metadata": {},
   "source": [
    "# Theoretical (Normal) Standard Deviation"
   ]
  },
  {
   "cell_type": "code",
   "execution_count": 113,
   "id": "8b98927b-2df7-4fe4-ab5d-716085ac01aa",
   "metadata": {},
   "outputs": [
    {
     "data": {
      "image/png": "[encoded data removed]",
      "text/plain": [
       "<Figure size 640x480 with 1 Axes>"
      ]
     },
     "metadata": {},
     "output_type": "display_data"
    }
   ],
   "source": [
    "from scipy.stats import norm\n",
    "import matplotlib.pyplot as plt\n",
    "import seaborn as sns\n",
    "\n",
    "# Simulate normal distribution with same mean and std\n",
    "normal_data = np.random.normal(loc=mean, scale=actual_std, size=len(returns))\n",
    "\n",
    "# Plot\n",
    "sns.histplot(returns, bins=50, color='blue', label='Actual', stat='density', kde=True)\n",
    "sns.histplot(normal_data, bins=50, color='red', label='Normal', stat='density', kde=True, alpha=0.5)\n",
    "plt.legend()\n",
    "plt.title(\"Actual vs Normal Distribution of Bitcoin Returns\")\n",
    "plt.show()\n"
   ]
  },
  {
   "cell_type": "code",
   "execution_count": 115,
   "id": "4bee367b-3bd6-4f25-a444-8f66ec70746d",
   "metadata": {},
   "outputs": [
    {
     "name": "stdout",
     "output_type": "stream",
     "text": [
      "Saved to: C:\\Users\\Kameliya.Stefanova\\OneDrive - INDEAVR\\Desktop\\ks\\ПХД\\Summer School\\Case\\btc_analysis_output.xlsx\n"
     ]
    }
   ],
   "source": [
    "df_clean = df.drop(columns=['Bin Interval', 'Bin Label'], errors='ignore')\n",
    "output_path = r\"C:\\Users\\Kameliya.Stefanova\\OneDrive - INDEAVR\\Desktop\\ks\\ПХД\\Summer School\\Case\\btc_analysis_output.xlsx\"\n",
    "\n",
    "with pd.ExcelWriter(output_path) as writer:\n",
    "    df_clean.to_excel(writer, sheet_name='Data + Returns', index=False)\n",
    "    histogram_table.to_excel(writer, sheet_name='Histogram Table', index=False)\n",
    "    return_summary.to_excel(writer, sheet_name='Return Summary', index=False)\n",
    "    descriptive_stats.to_excel(writer, sheet_name='Descriptive Stats', index=False)\n",
    "    std_band_df.to_excel(writer, sheet_name='Std Dev Bands', index=False)\n",
    "    std_dev_comparison.to_excel(writer, sheet_name='Std Dev Coverage', index=False)\n",
    "\n",
    "df = df.sort_values('date', ascending=False).reset_index(drop=True)\n",
    "\n",
    "print(\"Saved to:\", output_path)"
   ]
  },
  {
   "cell_type": "code",
   "execution_count": null,
   "id": "a475cd16-28c1-4864-a9de-2cdc1bfa3ce6",
   "metadata": {},
   "outputs": [],
   "source": []
  }
 ],
 "metadata": {
  "kernelspec": {
   "display_name": "Python 3 (ipykernel)",
   "language": "python",
   "name": "python3"
  },
  "language_info": {
   "codemirror_mode": {
    "name": "ipython",
    "version": 3
   },
   "file_extension": ".py",
   "mimetype": "text/x-python",
   "name": "python",
   "nbconvert_exporter": "python",
   "pygments_lexer": "ipython3",
   "version": "3.13.5"
  }
 },
 "nbformat": 4,
 "nbformat_minor": 5
}
